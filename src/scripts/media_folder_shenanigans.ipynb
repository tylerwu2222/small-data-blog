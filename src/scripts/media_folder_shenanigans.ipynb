{
 "cells": [
  {
   "cell_type": "code",
   "execution_count": 7,
   "metadata": {},
   "outputs": [],
   "source": [
    "import os\n",
    "import json"
   ]
  },
  {
   "cell_type": "code",
   "execution_count": 13,
   "metadata": {},
   "outputs": [],
   "source": [
    "root = '../../public/img/art_images/'\n",
    "art_folders = os.listdir(root)\n",
    "art_folders_dict = {}\n",
    "for folder in art_folders:\n",
    "    if os.path.isdir(os.path.join(root,folder)):\n",
    "        folder_files = os.listdir(os.path.join(root,folder))\n",
    "        art_folders_dict[folder] = folder_files\n",
    "# art_folders_dict\n",
    "with open(\"../site_data/art_images.json\", \"w\") as outfile:\n",
    "    json.dump(art_folders_dict, outfile)"
   ]
  },
  {
   "cell_type": "code",
   "execution_count": 1,
   "metadata": {},
   "outputs": [],
   "source": [
    "def media_to_json(root):\n",
    "    medias = os.listdir(root)\n",
    "    print(medias)\n",
    "    media_list = []\n",
    "    for media in medias:\n",
    "        media_metadata = {}\n",
    "        # if os.path.isdir(os.path.join(root,folder)):\n",
    "            # folder_files = os.listdir(os.path.join(root,folder))\n",
    "        media_metadata['name'] = media\n",
    "        # get date\n",
    "        \n",
    "        # get location?\n",
    "\n",
    "        # set category to name split[0]\n",
    "        media_metadata['format'] = media.split('.')[1]\n",
    "        media_metadata['category'] = media.split(' ')[0]\n",
    "        # main color?\n",
    "\n",
    "    # art_folders_dict\n",
    "    # with open(root + \"/BerkeleyNature.json\", \"w\") as outfile:\n",
    "    #     json.dump(media_list, outfile)"
   ]
  },
  {
   "cell_type": "code",
   "execution_count": 2,
   "metadata": {},
   "outputs": [
    {
     "name": "stdout",
     "output_type": "stream",
     "text": [
      "['animal (1).jpg', 'animal (1).mp4', 'animal (10).jpg', 'animal (2).jpg', 'animal (2).mp4', 'animal (3).jpg', 'animal (3).mp4', 'animal (4).jpg', 'animal (4).mp4', 'animal (5).jpg', 'animal (6).jpg', 'animal (7).jpg', 'animal (8).jpg', 'animal (9).jpg', 'animal.jpg', 'animal.mp4', 'berkeley_nature_long.png', 'bug (1).JPG', 'bug (2).JPG', 'bug (3).JPG', 'bug (4).JPG', 'bug (5).jpg', 'bug (6).jpg', 'bug.mp4', 'daily_tree (1).jpg', 'daily_tree (10).jpg', 'daily_tree (2).jpg', 'daily_tree (3).jpg', 'daily_tree (4).jpg', 'daily_tree (5).jpg', 'daily_tree (6).jpg', 'daily_tree (7).jpg', 'daily_tree (8).jpg', 'daily_tree (9).jpg', 'daily_tree.jpg', 'grass (1).jpg', 'grass (2).JPG', 'IMG_20220903_203849.jpg', 'IMG_20220903_224749.jpg', 'jackson (1).jpg', 'jackson (2).jpg', 'jackson (3).jpg', 'jackson.jpg', 'leaves.JPG', 'marina (1).jpg', 'marina (3).jpg', 'marina (4).jpg', 'plant (1).jpg', 'plant (10).JPG', 'plant (11).jpg', 'plant (12).JPG', 'plant (13).JPG', 'plant (14).JPG', 'plant (15).jpg', 'plant (2).jpg', 'plant (3).jpg', 'plant (4).jpg', 'plant (5).jpg', 'plant (6).JPG', 'plant (7).JPG', 'plant (8).JPG', 'plant (9).JPG', 'plant.jpg', 'pumpkin.JPG', 'sky (1).jpg', 'sky (1).mp4', 'sky (10).jpg', 'sky (11).jpg', 'sky (12).jpg', 'sky (13).jpg', 'sky (2).jpg', 'sky (2).mp4', 'sky (3).jpg', 'sky (4).jpg', 'sky (5).jpg', 'sky (6).JPG', 'sky (7).JPG', 'sky (8).JPG', 'sky (9).jpg', 'sky.jpg', 'south_safeway (1).jpg', 'south_safeway (2).jpg', 'tree (1).jpg', 'tree (2).jpg', 'tree (3).jpg', 'tree (4).jpg', 'tree (5).jpg', 'tree (6).JPG', 'tree (7).jpg', 'tree (8).jpg', 'tree.jpg', 'tree.mp4', 'water (1).jpg', 'water (1).mp4', 'water (2).jpg', 'window (1).jpg', 'window (2).jpg', 'window (3).jpg', 'window.jpg', 'window.mp4']\n"
     ]
    }
   ],
   "source": [
    "media_to_json('../../public/img/blog_posts/BerkeleyNature')"
   ]
  }
 ],
 "metadata": {
  "kernelspec": {
   "display_name": "Python 3.9.12 ('base')",
   "language": "python",
   "name": "python3"
  },
  "language_info": {
   "codemirror_mode": {
    "name": "ipython",
    "version": 3
   },
   "file_extension": ".py",
   "mimetype": "text/x-python",
   "name": "python",
   "nbconvert_exporter": "python",
   "pygments_lexer": "ipython3",
   "version": "3.9.12"
  },
  "orig_nbformat": 4,
  "vscode": {
   "interpreter": {
    "hash": "0420d7d8aef4f0cc439acea0c78cc7786074a26bb4830ab7d5d8dcbb2e116359"
   }
  }
 },
 "nbformat": 4,
 "nbformat_minor": 2
}
