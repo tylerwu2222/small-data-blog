{
 "cells": [
  {
   "cell_type": "code",
   "execution_count": 2,
   "metadata": {},
   "outputs": [],
   "source": [
    "import json\n",
    "# from sqlalchemy import create_engine, Table, Column, Integer, String, MetaData\n",
    "# import sqlite3\n",
    "import http.client\n",
    "import time\n",
    "import collections\n",
    "from collections import defaultdict"
   ]
  },
  {
   "cell_type": "code",
   "execution_count": 3,
   "metadata": {},
   "outputs": [],
   "source": [
    "data_folder = '../../components/Tools/NASHBoard/Data/'"
   ]
  },
  {
   "cell_type": "code",
   "execution_count": 4,
   "metadata": {},
   "outputs": [],
   "source": [
    "f = open('../api_keys.json')\n",
    "data = json.load(f)\n",
    "API_key = data[\"SportRadar\"]\n",
    "\n",
    "# establish connection to API\n",
    "conn = ''\n",
    "def get_conn():\n",
    "    global conn \n",
    "    conn = http.client.HTTPSConnection(\"api.sportradar.us\")\n",
    "get_conn()\n",
    "\n",
    "# function to get and minimally format data given url\n",
    "def get_data(url):\n",
    "    conn.request(\"GET\", url)\n",
    "    res = conn.getresponse()\n",
    "    data = res.read()\n",
    "    return json.loads(data.decode(\"utf-8\"))"
   ]
  },
  {
   "cell_type": "code",
   "execution_count": null,
   "metadata": {},
   "outputs": [],
   "source": [
    "# GET INJURY DATA\n",
    "injury_data = get_data(\"/nba/trial/v7/en/league/injuries.json?api_key=%s\" %API_key)\n",
    "# reformat injuries data\n",
    "injuries_list = []\n",
    "\n",
    "for i, row in enumerate(injury_data['teams']):\n",
    "    team = row['market'] + ' ' + row['name']\n",
    "    for player in row['players']:\n",
    "        injured = {}\n",
    "        injured['id'] = i\n",
    "        injured['team_name'] = team\n",
    "        injured.update({k: player[k] for k in ('full_name', 'primary_position','reference')})\n",
    "        injured.update({k: player['injuries'][0][k] for k in ('comment', 'status','start_date','update_date')})\n",
    "        injured['player_id'] = injured.pop('reference')\n",
    "        injuries_list.append(injured)\n",
    "\n",
    "# store in json\n",
    "with open(data_folder + 'injuries.json', 'w') as outfile:\n",
    "    json.dump(injuries_list, outfile)"
   ]
  },
  {
   "cell_type": "code",
   "execution_count": 5,
   "metadata": {},
   "outputs": [
    {
     "name": "stdout",
     "output_type": "stream",
     "text": [
      "game 0 of 1230\n",
      "game 50 of 1230\n",
      "game 100 of 1230\n",
      "game 150 of 1230\n",
      "game 200 of 1230\n",
      "game 250 of 1230\n",
      "game 300 of 1230\n",
      "game 350 of 1230\n",
      "game 400 of 1230\n",
      "game 450 of 1230\n",
      "game 500 of 1230\n",
      "game 550 of 1230\n",
      "game 600 of 1230\n",
      "game 650 of 1230\n",
      "game 700 of 1230\n",
      "game 750 of 1230\n",
      "game 800 of 1230\n",
      "game 850 of 1230\n",
      "game 900 of 1230\n",
      "game 950 of 1230\n",
      "game 1000 of 1230\n",
      "game 1050 of 1230\n",
      "game 1100 of 1230\n",
      "game 1150 of 1230\n",
      "game 1200 of 1230\n"
     ]
    }
   ],
   "source": [
    "# UPDATE WEEKLY GAMES\n",
    "season = \"2022\"\n",
    "get_conn()\n",
    "curr_season_schedule = get_data(\"/nba/trial/v7/en/games/\" + season + \"/REG/schedule.json?api_key=%s\" %API_key)\n",
    "games_list = []\n",
    "future_games_list = []\n",
    "num_games = len(curr_season_schedule['games'])\n",
    "for i, row in enumerate(curr_season_schedule['games']):\n",
    "    if i % 100 == 0:\n",
    "        print('game',i,'of',num_games)\n",
    "        \n",
    "    game = {}\n",
    "    if row['status'] == 'postponed' or row['status'] == 'cancelled':\n",
    "        continue\n",
    "    else:\n",
    "        game['time_zone'] = row['time_zones']['venue']\n",
    "        game['network'] = row['broadcasts'][0]['network'] if row.get('broadcasts') else 'missing'\n",
    "        try:\n",
    "            game['locale'] = row['broadcasts'][0]['locale']\n",
    "        except:\n",
    "            game['locale'] = 'home'\n",
    "        game['home'] = row['home']['name']\n",
    "        game['away'] = row['away']['name']\n",
    "        # add to future games list if not yet played\n",
    "        if row['status'] == 'scheduled':\n",
    "            game.update({k: row[k] for k in ('id', 'scheduled')})\n",
    "            future_games_list.append(game)\n",
    "        # else, add to played games list\n",
    "        else:\n",
    "            # try:\n",
    "            game.update({k: row[k] for k in ('id', 'scheduled','home_points','away_points')})\n",
    "            games_list.append(game)\n",
    "    \n",
    "# add to current year schedule jsons\n",
    "with open(data_folder + 'season_' + season + '_schedule.json', 'w') as outfile:\n",
    "    json.dump(games_list, outfile)\n",
    "with open(data_folder + 'season_' + season + '_remaining_schedule.json', 'w') as outfile:\n",
    "    json.dump(future_games_list, outfile)"
   ]
  },
  {
   "cell_type": "code",
   "execution_count": 6,
   "metadata": {},
   "outputs": [
    {
     "ename": "NameError",
     "evalue": "name 'team_ids' is not defined",
     "output_type": "error",
     "traceback": [
      "\u001b[1;31m---------------------------------------------------------------------------\u001b[0m",
      "\u001b[1;31mNameError\u001b[0m                                 Traceback (most recent call last)",
      "\u001b[1;32mc:\\Users\\tyler\\PersonalProjects\\small-data-blog\\src\\scripts\\NASHBoard\\WeeklyAPIScripts.ipynb Cell 6\u001b[0m in \u001b[0;36m<cell line: 7>\u001b[1;34m()\u001b[0m\n\u001b[0;32m      <a href='vscode-notebook-cell:/c%3A/Users/tyler/PersonalProjects/small-data-blog/src/scripts/NASHBoard/WeeklyAPIScripts.ipynb#W6sZmlsZQ%3D%3D?line=3'>4</a>\u001b[0m team_splits \u001b[39m=\u001b[39m {}\n\u001b[0;32m      <a href='vscode-notebook-cell:/c%3A/Users/tyler/PersonalProjects/small-data-blog/src/scripts/NASHBoard/WeeklyAPIScripts.ipynb#W6sZmlsZQ%3D%3D?line=4'>5</a>\u001b[0m split_splits \u001b[39m=\u001b[39m [\u001b[39m0\u001b[39m,\u001b[39m4\u001b[39m,\u001b[39m10\u001b[39m]\n\u001b[1;32m----> <a href='vscode-notebook-cell:/c%3A/Users/tyler/PersonalProjects/small-data-blog/src/scripts/NASHBoard/WeeklyAPIScripts.ipynb#W6sZmlsZQ%3D%3D?line=6'>7</a>\u001b[0m \u001b[39mfor\u001b[39;00m t,i \u001b[39min\u001b[39;00m team_ids\u001b[39m.\u001b[39mitems():\n\u001b[0;32m      <a href='vscode-notebook-cell:/c%3A/Users/tyler/PersonalProjects/small-data-blog/src/scripts/NASHBoard/WeeklyAPIScripts.ipynb#W6sZmlsZQ%3D%3D?line=7'>8</a>\u001b[0m     \u001b[39mprint\u001b[39m(t)\n\u001b[0;32m      <a href='vscode-notebook-cell:/c%3A/Users/tyler/PersonalProjects/small-data-blog/src/scripts/NASHBoard/WeeklyAPIScripts.ipynb#W6sZmlsZQ%3D%3D?line=8'>9</a>\u001b[0m     time\u001b[39m.\u001b[39msleep(\u001b[39m1\u001b[39m)\n",
      "\u001b[1;31mNameError\u001b[0m: name 'team_ids' is not defined"
     ]
    }
   ],
   "source": [
    "# GET UPDATED TEAM SPLITS\n",
    "with open(data_folder + 'teams.json', \"r\") as read_content:\n",
    "    team_json = json.load(read_content)\n",
    "team_ids = {t['teamName']:t['sr-id'] for t in team_json}\n",
    "\n",
    "year = '2022'\n",
    "get_conn()\n",
    "team_splits = {}\n",
    "split_splits = [0,4,10]\n",
    "\n",
    "for t,i in team_ids.items():\n",
    "    print(t)\n",
    "    time.sleep(1)\n",
    "    data = get_data(\"/nba/trial/v7/en/seasons/\" + year + \"/REG/teams/\" + i + \"/splits/ingame.json?api_key=%s\"%API_key)\n",
    "    total_games = 0\n",
    "    weighted_opp_splits_list = []\n",
    "    weighted_self_splits_list = []\n",
    "    for s in split_splits:\n",
    "        split_games = data['splits'][s]['opponents']['total']['games_played']\n",
    "        total_games = total_games + split_games\n",
    "        opp_splits = data['splits'][s]['opponents']['average']\n",
    "        weighted_opp_splits = {s:opp_splits[s] * split_games for s in list(opp_splits.keys())}\n",
    "        weighted_opp_splits_list.append(weighted_opp_splits)\n",
    "\n",
    "        self_splits = data['splits'][s]['own_record']['average']\n",
    "        weighted_self_splits = {s:self_splits[s] * split_games for s in list(self_splits.keys())}\n",
    "        weighted_self_splits_list.append(weighted_self_splits)\n",
    "\n",
    "    list_keys = [k for k in list(weighted_opp_splits.keys())]\n",
    "    total_weighted_opp_splits = dict(zip(list_keys,[0] * len(list_keys)))\n",
    "    for w in weighted_opp_splits_list:\n",
    "        for k in list_keys:\n",
    "            total_weighted_opp_splits[k] += w[k]\n",
    "    total_weighted_opp_splits = {k:round(i/total_games,2) for k,i in total_weighted_opp_splits.items()}\n",
    "\n",
    "    total_weighted_self_splits = dict(zip(list_keys,[0] * len(list_keys)))\n",
    "    for w in weighted_self_splits_list:\n",
    "        for k in list_keys:\n",
    "            total_weighted_self_splits[k] += w[k]\n",
    "    total_weighted_self_splits = {k:round(i/total_games,2) for k,i in total_weighted_self_splits.items()}\n",
    "\n",
    "    all_splits_dict = {'opponent':total_weighted_opp_splits,'self':total_weighted_self_splits}\n",
    "    team_splits[t] = all_splits_dict\n",
    "# team_splits"
   ]
  },
  {
   "cell_type": "code",
   "execution_count": null,
   "metadata": {},
   "outputs": [],
   "source": [
    "with open(data_folder + 'team_splits.json', 'w') as outfile:\n",
    "    json.dump(team_splits, outfile)"
   ]
  },
  {
   "cell_type": "code",
   "execution_count": null,
   "metadata": {},
   "outputs": [],
   "source": [
    "# UPDATE PLAYER BOX SCORES?"
   ]
  }
 ],
 "metadata": {
  "kernelspec": {
   "display_name": "base",
   "language": "python",
   "name": "python3"
  },
  "language_info": {
   "codemirror_mode": {
    "name": "ipython",
    "version": 3
   },
   "file_extension": ".py",
   "mimetype": "text/x-python",
   "name": "python",
   "nbconvert_exporter": "python",
   "pygments_lexer": "ipython3",
   "version": "3.9.12"
  },
  "orig_nbformat": 4,
  "vscode": {
   "interpreter": {
    "hash": "0420d7d8aef4f0cc439acea0c78cc7786074a26bb4830ab7d5d8dcbb2e116359"
   }
  }
 },
 "nbformat": 4,
 "nbformat_minor": 2
}
